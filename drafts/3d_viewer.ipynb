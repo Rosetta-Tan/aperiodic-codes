{
 "cells": [
  {
   "cell_type": "markdown",
   "metadata": {},
   "source": [
    "Dev doc for faster 3D viewer\n",
    "\n",
    "Ref:\n",
    "* Stim getting started notebook (search \"matchgraph-3d\")\n",
    "* https://gltf-viewer.donmccurdy.com/\n"
   ]
  },
  {
   "cell_type": "code",
   "execution_count": 2,
   "metadata": {},
   "outputs": [
    {
     "data": {
      "text/html": [
       "\n",
       "        <iframe\n",
       "            width=\"100%\"\n",
       "            height=\"500px\"\n",
       "            src=\"http://localhost:8000/point_cloud.html\"\n",
       "            frameborder=\"0\"\n",
       "            allowfullscreen\n",
       "            \n",
       "        ></iframe>\n",
       "        "
      ],
      "text/plain": [
       "<IPython.lib.display.IFrame at 0x110982e30>"
      ]
     },
     "metadata": {},
     "output_type": "display_data"
    },
    {
     "name": "stderr",
     "output_type": "stream",
     "text": [
      "Exception in thread Thread-8 (start_server):\n",
      "Traceback (most recent call last):\n",
      "  File \"/Users/yitan/anaconda3/envs/qec_numerics/lib/python3.10/threading.py\", line 1016, in _bootstrap_inner\n"
     ]
    },
    {
     "name": "stderr",
     "output_type": "stream",
     "text": [
      "    self.run()\n",
      "  File \"/Users/yitan/anaconda3/envs/qec_numerics/lib/python3.10/threading.py\", line 953, in run\n",
      "    self._target(*self._args, **self._kwargs)\n",
      "  File \"/var/folders/6l/b0p420v940g8f68bv4t047540000gn/T/ipykernel_14095/3292921717.py\", line 13, in start_server\n",
      "  File \"/Users/yitan/anaconda3/envs/qec_numerics/lib/python3.10/socketserver.py\", line 452, in __init__\n",
      "    self.server_bind()\n",
      "  File \"/Users/yitan/anaconda3/envs/qec_numerics/lib/python3.10/socketserver.py\", line 466, in server_bind\n",
      "    self.socket.bind(self.server_address)\n",
      "OSError: [Errno 48] Address already in use\n",
      "127.0.0.1 - - [24/Aug/2024 23:38:52] \"GET /point_cloud.html HTTP/1.1\" 304 -\n"
     ]
    }
   ],
   "source": [
    "import http.server\n",
    "import socketserver\n",
    "import threading\n",
    "import ipywidgets as widgets\n",
    "from IPython.display import IFrame, display\n",
    "\n",
    "# Step 1: Serve the HTML file using Python's HTTP server\n",
    "\n",
    "PORT = 8000\n",
    "Handler = http.server.SimpleHTTPRequestHandler\n",
    "\n",
    "def start_server():\n",
    "    with socketserver.TCPServer((\"\", PORT), Handler) as httpd:\n",
    "        print(f\"Serving at port {PORT}\")\n",
    "        httpd.serve_forever()\n",
    "\n",
    "# Step 2: Run the server in a separate thread\n",
    "server_thread = threading.Thread(target=start_server)\n",
    "server_thread.daemon = True\n",
    "server_thread.start()\n",
    "\n",
    "# Step 3: Display the HTML content in Jupyter Notebook using an iframe\n",
    "iframe = IFrame(src=f\"http://localhost:{PORT}/point_cloud.html\", width='100%', height='500px')\n",
    "display(iframe)"
   ]
  },
  {
   "cell_type": "code",
   "execution_count": null,
   "metadata": {},
   "outputs": [],
   "source": []
  }
 ],
 "metadata": {
  "kernelspec": {
   "display_name": "qec_numerics",
   "language": "python",
   "name": "python3"
  },
  "language_info": {
   "codemirror_mode": {
    "name": "ipython",
    "version": 3
   },
   "file_extension": ".py",
   "mimetype": "text/x-python",
   "name": "python",
   "nbconvert_exporter": "python",
   "pygments_lexer": "ipython3",
   "version": "3.10.14"
  }
 },
 "nbformat": 4,
 "nbformat_minor": 2
}
