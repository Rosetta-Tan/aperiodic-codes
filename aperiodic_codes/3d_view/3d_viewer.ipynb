{
 "cells": [
  {
   "cell_type": "markdown",
   "metadata": {},
   "source": [
    "Dev doc for faster 3D viewer\n",
    "\n",
    "Ref:\n",
    "* Stim getting started notebook (search \"matchgraph-3d\")\n",
    "* https://gltf-viewer.donmccurdy.com/\n"
   ]
  },
  {
   "cell_type": "code",
   "execution_count": 1,
   "metadata": {},
   "outputs": [
    {
     "name": "stdout",
     "output_type": "stream",
     "text": [
      "Serving at port 8000\n"
     ]
    },
    {
     "data": {
      "text/html": [
       "\n",
       "        <iframe\n",
       "            width=\"100%\"\n",
       "            height=\"500px\"\n",
       "            src=\"http://localhost:8000/output.html\"\n",
       "            frameborder=\"0\"\n",
       "            allowfullscreen\n",
       "            \n",
       "        ></iframe>\n",
       "        "
      ],
      "text/plain": [
       "<IPython.lib.display.IFrame at 0x7ff6a8123640>"
      ]
     },
     "metadata": {},
     "output_type": "display_data"
    },
    {
     "name": "stderr",
     "output_type": "stream",
     "text": [
      "127.0.0.1 - - [26/Aug/2024 13:01:37] \"GET /output.html HTTP/1.1\" 200 -\n",
      "127.0.0.1 - - [26/Aug/2024 13:01:37] \"GET /output.gltf HTTP/1.1\" 200 -\n"
     ]
    }
   ],
   "source": [
    "import http.server\n",
    "import socketserver\n",
    "import threading\n",
    "import ipywidgets as widgets\n",
    "from IPython.display import IFrame, display\n",
    "\n",
    "# Step 1: Serve the HTML file using Python's HTTP server\n",
    "\n",
    "PORT = 8000\n",
    "Handler = http.server.SimpleHTTPRequestHandler\n",
    "\n",
    "def start_server():\n",
    "    with socketserver.TCPServer((\"\", PORT), Handler) as httpd:\n",
    "        print(f\"Serving at port {PORT}\")\n",
    "        httpd.serve_forever()\n",
    "\n",
    "# Step 2: Run the server in a separate thread\n",
    "server_thread = threading.Thread(target=start_server)\n",
    "server_thread.daemon = True\n",
    "server_thread.start()\n",
    "\n",
    "# Step 3: Display the HTML content in Jupyter Notebook using an iframe\n",
    "iframe = IFrame(src=f\"http://localhost:{PORT}/output.html\", width='100%', height='500px')\n",
    "display(iframe)"
   ]
  },
  {
   "cell_type": "code",
   "execution_count": null,
   "metadata": {},
   "outputs": [],
   "source": []
  }
 ],
 "metadata": {
  "kernelspec": {
   "display_name": "qec_numerics",
   "language": "python",
   "name": "python3"
  },
  "language_info": {
   "codemirror_mode": {
    "name": "ipython",
    "version": 3
   },
   "file_extension": ".py",
   "mimetype": "text/x-python",
   "name": "python",
   "nbconvert_exporter": "python",
   "pygments_lexer": "ipython3",
   "version": "3.10.14"
  }
 },
 "nbformat": 4,
 "nbformat_minor": 2
}
