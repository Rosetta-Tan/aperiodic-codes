{
 "cells": [
  {
   "cell_type": "code",
   "execution_count": 7,
   "metadata": {},
   "outputs": [],
   "source": [
    "import sys\n",
    "sys.path.append('../src/')\n",
    "import numpy as np\n",
    "import sympy as sp\n",
    "import matplotlib.pyplot as plt\n",
    "from ldpc.mod2 import row_basis, nullspace, rank\n",
    "from helpers_distance import get_classical_code_distance_time_limit, get_classical_code_distance_special_treatment\n",
    "from scipy.optimize import root_scalar\n",
    "\n",
    "def areal(simplex, point):\n",
    "    dim = np.shape(simplex)\n",
    "    if dim[0] == len(point) and np.isclose(sum(point), 1):\n",
    "        return np.dot(point, simplex)\n",
    "    else:\n",
    "        var = sp.symbols(f'x:{dim[0]}')\n",
    "        equations = [sum(var[i] * simplex[i][j] for i in range(dim[0])) - point[j] for j in range(dim[1])]\n",
    "        equations.append(sum(var) - 1) \n",
    "        sol = sp.solve(equations, var)\n",
    "        return [sol[v] for v in var]\n",
    "\n",
    "# # Example usage\n",
    "# simplex = np.array([[0, 0], [3, 0], [0, 4]])\n",
    "# # point = [1, 2]\n",
    "# bary = [1/6, 1/3, 1/2]\n",
    "# print(areal(simplex, bary))\n",
    "\n",
    "\n",
    "####################################################################################################\n",
    "\n",
    "psi = root_scalar(lambda x: x**3 - x**2 - 1, bracket=[1, 2], method='brentq').root\n",
    "\n",
    "pt1_x = 1\n",
    "pt1_y = 0\n",
    "pt2_x = root_scalar(lambda x: 8*x**3 - 8*x**2 + 2*x + 1, bracket=[-1, 0], method='brentq').root\n",
    "pt2_y = root_scalar(lambda x: 64*x**6 + 32*x**4 + 4*x**2 - 31, bracket=[0, 1], method='brentq').root\n",
    "pt3_x = root_scalar(lambda x: 8*x**3 - 8*x**2 - 2*x + 3, bracket=[-1, 0], method='brentq').root\n",
    "pt3_y = root_scalar(lambda x: 64*x**6 + 224*x**4 + 196*x**2 - 31, bracket=[-1, 0], method='brentq').root\n",
    "pt4_x = root_scalar(lambda x: 8*x**3 - 32*x**2 + 38*x - 11, bracket=[0, 1], method='brentq').root\n",
    "pt4_y = root_scalar(lambda x: 64*x**6 + 224*x**4 + 196*x**2 - 31, bracket=[-1, 0], method='brentq').root\n",
    "assert pt3_y == pt4_y\n",
    "pt5_x = root_scalar(lambda x: 8*x**3 - 40*x**2 + 54*x - 9, bracket=[0, 1], method='brentq').root\n",
    "pt5_y = root_scalar(lambda x: 64*x**6 + 608*x**4 + 1444*x**2 - 279, bracket=[0, 1], method='brentq').root\n",
    "pt6_x = root_scalar(lambda x: 8*x**3 + 8*x**2 - 2*x - 3, bracket=[0, 1], method='brentq').root\n",
    "pt6_y = root_scalar(lambda x: 64*x**6 + 224*x**4 + 196*x**2 - 31, bracket=[0, 1], method='brentq').root\n",
    "\n",
    "pt1 = [pt1_x, pt1_y]\n",
    "pt2 = [pt2_x, pt2_y]\n",
    "pt3 = [pt3_x, pt3_y]\n",
    "pt4 = [pt4_x, pt4_y]\n",
    "pt5 = [pt5_x, pt5_y]\n",
    "pt6 = [pt6_x, pt6_y]\n",
    "\n",
    "#length of edge 1-4\n",
    "l14 = np.sqrt((pt4_x-pt1_x)**2 + (pt4_y-pt1_y)**2)\n",
    "# length of edge 3-4\n",
    "l34 = np.sqrt((pt4_x-pt3_x)**2 + (pt4_y-pt3_y)**2)\n",
    "# length of edge 2-3\n",
    "l23 = np.sqrt((pt3_x-pt2_x)**2 + (pt3_y-pt2_y)**2)\n",
    "# length of edge 2-1\n",
    "l12 = np.sqrt((pt1_x-pt2_x)**2 + (pt1_y-pt2_y)**2)\n",
    "\n",
    "sqrt_psi = np.sqrt(psi)\n",
    "savedir = '/Users/yitan/Library/CloudStorage/GoogleDrive-yitan@g.harvard.edu/My Drive/from_cannon/qmemory_simulation/data/qc_code/psi_tiling/gen_15/'\n",
    "\n",
    "\n",
    "\n",
    "faces = []\n",
    "faces.append((1, pt1, pt2, pt3, pt4))\n",
    "baryprep = []"
   ]
  },
  {
   "cell_type": "code",
   "execution_count": 19,
   "metadata": {},
   "outputs": [],
   "source": [
    "def baryprep_sub(pt):\n",
    "    return areal(np.array([pt1, pt2, pt3]), pt)\n",
    "\n",
    "pts = [pt1, pt2, pt3, pt4, pt5, pt6]\n",
    "baryprep1 = np.array([baryprep_sub(pt) for pt in pts], dtype=float)\n",
    "baryprep2 = np.array([baryprep_sub(pt) for pt in pts], dtype=float)\n",
    "baryprep3 = np.array([baryprep_sub(pt) for pt in pts], dtype=float)"
   ]
  },
  {
   "cell_type": "code",
   "execution_count": 24,
   "metadata": {},
   "outputs": [
    {
     "data": {
      "text/plain": [
       "array([[ 0.36465561,  0.56648686,  0.06885754],\n",
       "       [ 0.6823278 , -0.21675657,  0.53442877],\n",
       "       [ 1.        ,  0.        ,  0.        ],\n",
       "       [ 0.63534439,  0.43351314, -0.06885754]])"
      ]
     },
     "execution_count": 24,
     "metadata": {},
     "output_type": "execute_result"
    }
   ],
   "source": [
    "baryprep1[[4,3,0,5]]"
   ]
  },
  {
   "cell_type": "code",
   "execution_count": 25,
   "metadata": {},
   "outputs": [
    {
     "data": {
      "text/plain": [
       "[0.364655607655924, 0.566486856097699, 0.0688575362463773]"
      ]
     },
     "execution_count": 25,
     "metadata": {},
     "output_type": "execute_result"
    }
   ],
   "source": [
    "areal(np.array([pt1, pt2, pt3]), pt5)"
   ]
  },
  {
   "cell_type": "code",
   "execution_count": 26,
   "metadata": {},
   "outputs": [
    {
     "data": {
      "text/plain": [
       "[0.635344392343877, 0.433513143902655, -0.0688575362465327]"
      ]
     },
     "execution_count": 26,
     "metadata": {},
     "output_type": "execute_result"
    }
   ],
   "source": [
    "areal(np.array([pt1, pt2, pt3]), pt6)"
   ]
  },
  {
   "cell_type": "code",
   "execution_count": null,
   "metadata": {},
   "outputs": [],
   "source": []
  }
 ],
 "metadata": {
  "kernelspec": {
   "display_name": "qec_numerics",
   "language": "python",
   "name": "python3"
  },
  "language_info": {
   "codemirror_mode": {
    "name": "ipython",
    "version": 3
   },
   "file_extension": ".py",
   "mimetype": "text/x-python",
   "name": "python",
   "nbconvert_exporter": "python",
   "pygments_lexer": "ipython3",
   "version": "3.9.17"
  }
 },
 "nbformat": 4,
 "nbformat_minor": 2
}
