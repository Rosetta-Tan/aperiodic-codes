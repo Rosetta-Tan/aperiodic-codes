{
 "cells": [
  {
   "cell_type": "code",
   "execution_count": 1,
   "metadata": {},
   "outputs": [],
   "source": [
    "import numpy as np\n",
    "import networkx as nx\n",
    "import matplotlib.pyplot as plt\n",
    "plt.style.use('../figures/norm2.mplstyle')\n",
    "from ldpc.code_util import *\n",
    "from ldpc.mod2 import *\n",
    "from bposd.hgp import hgp\n",
    "from bposd.css import css_code, compute_code_distance\n",
    "import sys, os\n",
    "\n",
    "def read_pc(filepath):\n",
    "    \"\"\"\n",
    "    Read parity check matrix from file.\n",
    "    \"\"\"\n",
    "    with open(filepath, 'r') as f:\n",
    "        lines = f.readlines()\n",
    "    pc = []\n",
    "    for line in lines:\n",
    "        row = [int(x) for x in line.split()]\n",
    "        pc.append(row)\n",
    "    return np.array(pc, dtype=np.uint8)\n",
    "\n",
    "readdir = '/Users/yitan/Google Drive/My Drive/from_cannon/qmemory_simulation/data/rgg_code'"
   ]
  },
  {
   "cell_type": "code",
   "execution_count": 2,
   "metadata": {},
   "outputs": [],
   "source": [
    "sizes = np.array(range(10, 110, 10))\n",
    "deg_bit = 4\n",
    "deg_check = 5\n",
    "ns = deg_check*sizes\n",
    "ms = deg_bit*sizes\n",
    "r = 0.2\n",
    "seeds = np.array(range(0, 40))"
   ]
  },
  {
   "cell_type": "code",
   "execution_count": 3,
   "metadata": {},
   "outputs": [],
   "source": [
    "def config_model_with_distance_bound(n, m, deg_bit, deg_check, r, rescale_factor=1, seed=0):\n",
    "    G=nx.empty_graph(n+m)\n",
    "    rng = np.random.default_rng(seed)\n",
    "    if not n*deg_bit==m*deg_check:\n",
    "        raise nx.NetworkXError(\\\n",
    "              'invalid degree sequences, n*deg_bit!=m*deg_check,%s,%s'\\\n",
    "              %(n*deg_bit,m*deg_check))\n",
    "\n",
    "    pos = {i: rng.uniform(low=0, high=rescale_factor, size=2) for i in range(n+m)}\n",
    "    G.add_nodes_from(range(0,n+m))\n",
    "    'add bipartite attribute to nodes'\n",
    "    b=dict(zip(range(0,n),[0]*n))\n",
    "    shapes=dict(zip(range(0,n),['o']*n)) # circle\n",
    "    b.update(dict(zip(range(n,n+m),[1]*m)))\n",
    "    shapes.update(dict(zip(range(n,n+m),['s']*m))) # square\n",
    "    nx.set_node_attributes(G,b,'bipartite') \n",
    "    'add position attribute to nodes'\n",
    "    nx.set_node_attributes(G,pos,'pos')\n",
    "    stubs = [[v]*deg_bit for v in range(0,n)]\n",
    "    astubs = [x for subseq in stubs for x in subseq]\n",
    "    stubs = [[v]*deg_check for v in range(n,n+m)]\n",
    "    bstubs = [x for subseq in stubs for x in subseq]\n",
    "    rng.shuffle(astubs)\n",
    "    rng.shuffle(bstubs)\n",
    "    edge_list = list(zip(astubs,bstubs))\n",
    "    for u,v in edge_list:\n",
    "        if np.linalg.norm(pos[u]-pos[v]) < r:\n",
    "            G.add_edge(u,v)\n",
    "    return G\n",
    "\n",
    "def gen_rgg_code_rescaled(n, m, deg_bit, deg_check, r, seed):\n",
    "    G = config_model_with_distance_bound(n, m, deg_bit=deg_bit, deg_check=deg_check, r=r, rescale_factor=np.sqrt(size/10) ,seed=seed)\n",
    "    pc = nx.bipartite.biadjacency_matrix(G, row_order=range(n,n+m), column_order=range(n))\n",
    "    pc = pc.toarray().astype(int)\n",
    "    return G, pc"
   ]
  },
  {
   "cell_type": "markdown",
   "metadata": {},
   "source": [
    "### Plot classical RGG code"
   ]
  },
  {
   "cell_type": "code",
   "execution_count": null,
   "metadata": {},
   "outputs": [],
   "source": [
    "# Gs = [config_model_with_distance_bound(n, m, deg_bit=deg_bit, deg_check=deg_check, r=rs[i]) for i in range(4)]\n",
    "# for i in range(4):\n",
    "#     pc = nx.bipartite.biadjacency_matrix(Gs[i], row_order=range(n,n+m), column_order=range(n))\n",
    "#     pc = pc.toarray().astype(int)\n",
    "#     np.savetxt(f'../data/rgg_code/hclassical_n{n}_m{m}_degbit{deg_bit}_degcheck{deg_check}_r{rs[i]}_seed{seed}.txt', pc, fmt='%d')\n",
    "#     row = i // 2\n",
    "#     col = i % 2\n",
    "#     G = Gs[i]\n",
    "#     pos = nx.get_node_attributes(G, 'pos')\n",
    "#     pos_nodes = [pos[i] for i in range(n)]\n",
    "#     pos_checks = [pos[i] for i in range(n, n+m)]\n",
    "#     for edge in G.edges():\n",
    "#         u, v = edge\n",
    "#         ax[row, col].plot(*zip(pos[u], pos[v]), color='k', linestyle='-', linewidth=0.5)\n",
    "#     ax[row, col].scatter(*zip(*pos_nodes), color='r', marker='o')\n",
    "#     ax[row, col].scatter(*zip(*pos_checks), color='b', marker='s')\n",
    "# plt.show()"
   ]
  },
  {
   "cell_type": "code",
   "execution_count": null,
   "metadata": {},
   "outputs": [],
   "source": [
    "# rs = [0.2, 0.4, 0.6, 0.8]\n",
    "r = 0.8\n",
    "selected_size = np.random.choice(range(len(sizes)), size=4, replace=False)\n",
    "print(selected_size)\n",
    "fig, ax = plt.subplots(2, 2)\n",
    "for row in range(2):\n",
    "    for col in range(2):\n",
    "        idx = 2*row + col\n",
    "        G = config_model_with_distance_bound(n=ns[selected_size[idx]], m=ms[selected_size[idx]], deg_bit=deg_bit, deg_check=deg_check, r=r, rescale_factor=np.sqrt(sizes[selected_size[idx]]/10), seed=seeds[0])\n",
    "        pos = nx.get_node_attributes(G, 'pos')\n",
    "        pos_nodes = [pos[i] for i in range(ns[selected_size[idx]])]\n",
    "        pos_checks = [pos[i] for i in range(ns[selected_size[idx]], ns[selected_size[idx]]+ms[selected_size[idx]])]\n",
    "        for edge in G.edges():\n",
    "            u, v = edge\n",
    "            ax[row, col].plot(*zip(pos[u], pos[v]), color='k', linestyle='-', linewidth=0.5)\n",
    "        ax[row, col].scatter(*zip(*pos_nodes), color='r', marker='o')\n",
    "        ax[row, col].scatter(*zip(*pos_checks), color='b', marker='s')\n",
    "        ax[row, col].set_title(f'n={ns[selected_size[idx]]}, m={ms[selected_size[idx]]}, r={r}')\n",
    "fig.set_size_inches(18, 18)\n",
    "fig.savefig('../figures/local_classical_ldpc_illustration.pdf')\n",
    "plt.show()"
   ]
  },
  {
   "cell_type": "markdown",
   "metadata": {},
   "source": [
    "### Kernel and coimage scaling"
   ]
  },
  {
   "cell_type": "code",
   "execution_count": null,
   "metadata": {},
   "outputs": [],
   "source": [
    "rs = [0.2, 0.4, 0.6, 0.8]\n",
    "dimkers = {}\n",
    "dimcoimgs = {}\n",
    "avg_dimkers = {}\n",
    "avg_dimcoimgs = {}\n",
    "for ir, r in enumerate(rs):\n",
    "    dimkers[f'r{r}'] = []\n",
    "    dimcoimgs[f'r{r}'] = []\n",
    "    avg_dimkers[f'r{r}'] = []\n",
    "    avg_dimcoimgs[f'r{r}'] = []\n",
    "    for isize, size in enumerate(sizes):\n",
    "        dimkers[f'r{r}'].append([])\n",
    "        dimcoimgs[f'r{r}'].append([])\n",
    "        for iseed, seed in enumerate(seeds):\n",
    "            readpath = os.path.join(readdir, f'hclassical_n{ns[isize]}_m{ms[isize]}_degbit{deg_bit}_degcheck{deg_check}_r{r}_seed{seed}.txt')\n",
    "            h = read_pc(readpath)\n",
    "            dimkers[f'r{r}'][-1].append(len(nullspace(h)))\n",
    "            dimcoimgs[f'r{r}'][-1].append(ms[isize] - len(row_basis(h)))\n",
    "        avg_dimkers[f'r{r}'].append(np.mean(dimkers[f'r{r}'][-1]))\n",
    "        avg_dimcoimgs[f'r{r}'].append(np.mean(dimcoimgs[f'r{r}'][-1]))"
   ]
  },
  {
   "cell_type": "code",
   "execution_count": null,
   "metadata": {},
   "outputs": [],
   "source": [
    "fig, ax = plt.subplots(1, 2)\n",
    "ax[0].plot(ns, avg_dimkers['r0.2'], 'o-', label='dim ker ($r=0.2$))')\n",
    "ax[0].plot(ns, avg_dimkers['r0.4'], 'o-', label='dim ker ($r=0.4$))')\n",
    "ax[0].plot(ns, avg_dimkers['r0.6'], 'o-', label='dim ker ($r=0.6$))')\n",
    "ax[0].plot(ns, avg_dimkers['r0.8'], 'o-', label='dim ker ($r=0.8$))')\n",
    "ax[0].set_xlabel('n')\n",
    "ax[0].set_ylabel('avg number of codewords')\n",
    "# ax[0].set_title('avg dim ker vs n')\n",
    "ax[1].plot(ns, avg_dimcoimgs['r0.2'], 'o-', label='dim coimg ($r=0.2$)')\n",
    "ax[1].plot(ns, avg_dimcoimgs['r0.4'], 'o-', label='dim coimg ($r=0.4$)')\n",
    "ax[1].plot(ns, avg_dimcoimgs['r0.6'], 'o-', label='dim coimg ($r=0.6$)')\n",
    "ax[1].plot(ns, avg_dimcoimgs['r0.8'], 'o-', label='dim coimg ($r=0.8$)')\n",
    "ax[1].set_xlabel('n')\n",
    "ax[1].set_ylabel('avg number of s.s. sectors')\n",
    "# ax[1].set_title('avg number of superselection sectors vs n')\n",
    "fig.legend()\n",
    "fig.set_size_inches(20, 6)\n",
    "fig.savefig('../figures/rgg_code_dim_scaling.pdf')\n",
    "plt.show()"
   ]
  },
  {
   "cell_type": "markdown",
   "metadata": {},
   "source": [
    "### Minimum distance scaling\n",
    "[reference](https://digital.library.unt.edu/ark:/67531/metadc743246/m2/1/high_res_d/794005.pdf)"
   ]
  },
  {
   "cell_type": "markdown",
   "metadata": {},
   "source": [
    "#### Before rescaling"
   ]
  },
  {
   "cell_type": "code",
   "execution_count": null,
   "metadata": {},
   "outputs": [],
   "source": [
    "r = 0.8\n",
    "min_dists = []\n",
    "avg_min_dists = []\n",
    "for i, size in enumerate(sizes):\n",
    "    min_dists.append([])\n",
    "    for j, seed in enumerate(seeds):\n",
    "        readpath = os.path.join(readdir, f'mindist_n{ns[i]}_m{ms[i]}_degbit{deg_bit}_degcheck{deg_check}_r{r}_seed{seed}.npy')\n",
    "        min_dist = np.load(readpath)\n",
    "        min_dists[-1].append(min_dist)\n",
    "    avg_min_dists.append(np.mean(min_dists[-1]))"
   ]
  },
  {
   "cell_type": "code",
   "execution_count": null,
   "metadata": {},
   "outputs": [],
   "source": [
    "def inverse_sqrt(x, a):\n",
    "    return a/np.sqrt(x)\n",
    "\n",
    "from scipy.optimize import curve_fit\n",
    "popt, pcov = curve_fit(inverse_sqrt, ns, avg_min_dists)"
   ]
  },
  {
   "cell_type": "markdown",
   "metadata": {},
   "source": [
    "#### After rescaling"
   ]
  },
  {
   "cell_type": "code",
   "execution_count": null,
   "metadata": {},
   "outputs": [],
   "source": [
    "r = 0.8\n",
    "min_dists_rescaled = []\n",
    "avg_min_dists_rescaled = []\n",
    "for i, size in enumerate(sizes):\n",
    "    min_dists_rescaled.append([])\n",
    "    for j, seed in enumerate(seeds):\n",
    "        readpath = os.path.join(readdir, f'mindist_rescaled_n{ns[i]}_m{ms[i]}_degbit{deg_bit}_degcheck{deg_check}_r{r}_seed{seed}.npy')\n",
    "        min_dist = np.load(readpath)\n",
    "        min_dists_rescaled[-1].append(min_dist)\n",
    "    avg_min_dists_rescaled.append(np.mean(min_dists_rescaled[-1]))"
   ]
  },
  {
   "cell_type": "code",
   "execution_count": null,
   "metadata": {},
   "outputs": [],
   "source": [
    "fig, ax = plt.subplots(1, 2)\n",
    "# left plot: unrescaled\n",
    "ax[0].fill_between(ns, avg_min_dists-np.std(min_dists, axis=1), avg_min_dists+np.std(min_dists, axis=1), alpha=0.2, label='standard deviation')\n",
    "ax[0].plot(ns, avg_min_dists, 'o-', label='avg min dist')\n",
    "ax[0].plot(ns, popt/np.sqrt(ns), label='1/sqrt(n)')\n",
    "ax[0].set_xlabel('n')\n",
    "ax[0].set_ylabel('avg min dist (unrescaled)')\n",
    "ax[0].set_title('unrescaled')\n",
    "# right plot: rescaled\n",
    "ax[1].fill_between(ns, avg_min_dists_rescaled-np.std(min_dists_rescaled, axis=1), avg_min_dists_rescaled+np.std(min_dists_rescaled, axis=1), alpha=0.2)\n",
    "ax[1].plot(ns, avg_min_dists_rescaled, 'o-')\n",
    "ax[1].set_xlabel('n')\n",
    "ax[1].set_ylabel('avg min dist (rescaled)')\n",
    "ax[1].set_title('rescaled')\n",
    "fig.legend()\n",
    "fig.set_size_inches(22, 8)\n",
    "fig.savefig('../figures/rgg_avg_min_dist.pdf')\n",
    "plt.show()"
   ]
  },
  {
   "cell_type": "markdown",
   "metadata": {},
   "source": [
    "### Scaling of hypergraph product quantum codes\n",
    "Formula for number of superselection sectors:\n",
    "$m_X - rank(H_X)=m_1 n_2 - $ for Z-type excitations; $m_Z - rank(H_Z)$ for X-type excitations.\n",
    "\n",
    "BPT bound: $kd^2=O(n)$"
   ]
  },
  {
   "cell_type": "code",
   "execution_count": 13,
   "metadata": {},
   "outputs": [],
   "source": [
    "sizes_for_qcode = np.array(range(10, 40, 10))\n",
    "r = 0.2\n",
    "seed1 = 0\n",
    "seed2 = 20\n",
    "dimkers = {'r0.2': []}\n",
    "dimcoimgs_X = {'r0.2': []}\n",
    "dimcoimgs_Z = {'r0.2': []}\n",
    "for isize, size in enumerate(sizes_for_qcode):\n",
    "    readpath1 = os.path.join(readdir, f'hclassical_n{ns[isize]}_m{ms[isize]}_degbit{deg_bit}_degcheck{deg_check}_r{r}_seed{seed1}.txt')\n",
    "    h1 = read_pc(readpath1)\n",
    "    readpath2 = os.path.join(readdir, f'hclassical_n{ns[isize]}_m{ms[isize]}_degbit{deg_bit}_degcheck{deg_check}_r{r}_seed{seed2}.txt')\n",
    "    h2 = read_pc(readpath2)\n",
    "    qcode = hgp(h1=h1, h2=h2)\n",
    "    hx, hz = qcode.hx, qcode.hz\n",
    "    dimkers['r0.2'].append(qcode.K)\n",
    "    dimcoimgs_X['r0.2'].append(hx.shape[0] - len(row_basis(hx)))\n",
    "    dimcoimgs_Z['r0.2'].append(hz.shape[0] - len(row_basis(hz)))"
   ]
  },
  {
   "cell_type": "code",
   "execution_count": null,
   "metadata": {},
   "outputs": [],
   "source": []
  },
  {
   "cell_type": "code",
   "execution_count": 12,
   "metadata": {},
   "outputs": [
    {
     "data": {
      "image/png": "[encoded data removed]",
      "text/plain": [
       "<Figure size 600x500 with 1 Axes>"
      ]
     },
     "metadata": {},
     "output_type": "display_data"
    }
   ],
   "source": [
    "fig, ax = plt.subplots(1,1)\n",
    "ax.plot(sizes_for_qcode*deg_check, dimkers['r0.2'], 'o-', label='dim ker ($r=0.2$))')\n",
    "# fig.set_size_inches(18, 18)\n",
    "fig.savefig('../figures/local_qldpc_dim_scaling.pdf')\n",
    "plt.show()"
   ]
  },
  {
   "cell_type": "markdown",
   "metadata": {},
   "source": [
    "### Confinement (discrete compressed sensing)\n",
    "Truncate logical operators, and plot the scaling of syndrome vector weight vs error vector weight"
   ]
  },
  {
   "cell_type": "code",
   "execution_count": null,
   "metadata": {},
   "outputs": [],
   "source": []
  },
  {
   "cell_type": "code",
   "execution_count": null,
   "metadata": {},
   "outputs": [],
   "source": []
  },
  {
   "cell_type": "code",
   "execution_count": null,
   "metadata": {},
   "outputs": [],
   "source": []
  }
 ],
 "metadata": {
  "kernelspec": {
   "display_name": "qec_numerics",
   "language": "python",
   "name": "python3"
  },
  "language_info": {
   "codemirror_mode": {
    "name": "ipython",
    "version": 3
   },
   "file_extension": ".py",
   "mimetype": "text/x-python",
   "name": "python",
   "nbconvert_exporter": "python",
   "pygments_lexer": "ipython3",
   "version": "3.9.17"
  }
 },
 "nbformat": 4,
 "nbformat_minor": 2
}
